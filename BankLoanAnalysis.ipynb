{
  "nbformat": 4,
  "nbformat_minor": 0,
  "metadata": {
    "colab": {
      "name": "BankLoanAnalysis",
      "provenance": [],
      "collapsed_sections": [],
      "authorship_tag": "ABX9TyPsOAO6ml7rhJ7sOgMTXVhu",
      "include_colab_link": true
    },
    "kernelspec": {
      "name": "python3",
      "display_name": "Python 3"
    }
  },
  "cells": [
    {
      "cell_type": "markdown",
      "metadata": {
        "id": "view-in-github",
        "colab_type": "text"
      },
      "source": [
        "<a href=\"https://colab.research.google.com/github/harishkgithub/MLPractice/blob/master/BankLoanAnalysis.ipynb\" target=\"_parent\"><img src=\"https://colab.research.google.com/assets/colab-badge.svg\" alt=\"Open In Colab\"/></a>"
      ]
    },
    {
      "cell_type": "code",
      "metadata": {
        "id": "tuR95Rqy-HXg"
      },
      "source": [
        "import pandas as pd\n",
        "import numpy as np\n",
        "import seaborn as sns\n",
        "import matplotlib.pyplot as plt\n",
        "%matplotlib inline"
      ],
      "execution_count": 54,
      "outputs": []
    },
    {
      "cell_type": "code",
      "metadata": {
        "id": "7vWW_c11DZz1",
        "outputId": "a28db124-36f4-42e5-ee97-08588135bdca",
        "colab": {
          "base_uri": "https://localhost:8080/"
        }
      },
      "source": [
        "#Hk create a method for this\n",
        "print(\"Loading bank loan data\")\n",
        "url = 'https://drive.google.com/file/d/1yodjQlMXU-yHVh3LOW5DC-obVqdxoJht/view?usp=sharing'\n",
        "path = 'https://drive.google.com/uc?export=download&id='+url.split('/')[-2]\n",
        "bankLoanDF = pd.read_excel(path,sheet_name='Data')"
      ],
      "execution_count": 15,
      "outputs": [
        {
          "output_type": "stream",
          "text": [
            "Loading bank loan data\n"
          ],
          "name": "stdout"
        }
      ]
    },
    {
      "cell_type": "code",
      "metadata": {
        "id": "DzqF0pIQJ4EP",
        "outputId": "e7d59e03-c1be-4d22-95b7-b768ebd0b6db",
        "colab": {
          "base_uri": "https://localhost:8080/"
        }
      },
      "source": [
        "bankLoanDF.shape\n",
        "#we have very less data for modeling because 5000 is very less for any modeling lets proceed for now"
      ],
      "execution_count": 16,
      "outputs": [
        {
          "output_type": "execute_result",
          "data": {
            "text/plain": [
              "(5000, 14)"
            ]
          },
          "metadata": {
            "tags": []
          },
          "execution_count": 16
        }
      ]
    },
    {
      "cell_type": "code",
      "metadata": {
        "id": "yAUs-0UXKLmz",
        "outputId": "746b6c1f-61e1-4f84-bbe5-d101ac0bd719",
        "colab": {
          "base_uri": "https://localhost:8080/",
          "height": 483
        }
      },
      "source": [
        "bankLoanDF.describe().transpose()\n",
        "#Inferences\n",
        "#Age - min 23 and max 67 so the values are valid.\n",
        "#This is age of Account holder\n",
        "\n",
        "#Experince - I do not understand this I assume work experince\n",
        "##### Experince min is -3 which is bad data (exp is always greater than 0)\n",
        "##### 1) We need to investigate which other day are below 0 and decide what to do for those rows\n",
        "\n",
        "#Income - Income of Account holder \n",
        "##### 2) I do not know the units is it in lacs?\n",
        "##### 3) I do not know if its monthly, It should monthly because banks generally estimate based on how emi can borrower pay monthy?\n",
        "\n",
        "#ZIP Code - Account holders residing address Zip code \n",
        "##### 4) Seems to be legitimate but we should cross check with business if the allowed data is between pin code (9307 - 96651)\n",
        "##### 5) Ask bisu what to infer from mix,25%,50%,75%,max ( more data on left or more on right etc) when is it use ful?\n",
        "\n",
        "#Family - I am not understanding what is this but let me use it as is\n",
        "#CCAvg - I am not understanding what is this but let me use it as is\n",
        "#Education - Seems legitimate 1 to 3 might represent UG,PG,PHD etc \n",
        "#Mortgage - I am not understanding what is this but let me use it as is\n",
        "#Personal Loan -  Legitimate\n",
        "#                 0 do not give loan\n",
        "#                 1 can give loan\n",
        "#Securities Account - I am not understanding what is this but let me use it as is\n",
        "#CD Account - I am not understanding what is this but let me use it as is \n",
        "#Online - I am not understanding what is this but let me use it as is\n",
        "#CreditCard -\n",
        "#                 0 does not have credit card\n",
        "#                 1 has credit card"
      ],
      "execution_count": 19,
      "outputs": [
        {
          "output_type": "execute_result",
          "data": {
            "text/html": [
              "<div>\n",
              "<style scoped>\n",
              "    .dataframe tbody tr th:only-of-type {\n",
              "        vertical-align: middle;\n",
              "    }\n",
              "\n",
              "    .dataframe tbody tr th {\n",
              "        vertical-align: top;\n",
              "    }\n",
              "\n",
              "    .dataframe thead th {\n",
              "        text-align: right;\n",
              "    }\n",
              "</style>\n",
              "<table border=\"1\" class=\"dataframe\">\n",
              "  <thead>\n",
              "    <tr style=\"text-align: right;\">\n",
              "      <th></th>\n",
              "      <th>count</th>\n",
              "      <th>mean</th>\n",
              "      <th>std</th>\n",
              "      <th>min</th>\n",
              "      <th>25%</th>\n",
              "      <th>50%</th>\n",
              "      <th>75%</th>\n",
              "      <th>max</th>\n",
              "    </tr>\n",
              "  </thead>\n",
              "  <tbody>\n",
              "    <tr>\n",
              "      <th>ID</th>\n",
              "      <td>5000.0</td>\n",
              "      <td>2500.500000</td>\n",
              "      <td>1443.520003</td>\n",
              "      <td>1.0</td>\n",
              "      <td>1250.75</td>\n",
              "      <td>2500.5</td>\n",
              "      <td>3750.25</td>\n",
              "      <td>5000.0</td>\n",
              "    </tr>\n",
              "    <tr>\n",
              "      <th>Age</th>\n",
              "      <td>5000.0</td>\n",
              "      <td>45.338400</td>\n",
              "      <td>11.463166</td>\n",
              "      <td>23.0</td>\n",
              "      <td>35.00</td>\n",
              "      <td>45.0</td>\n",
              "      <td>55.00</td>\n",
              "      <td>67.0</td>\n",
              "    </tr>\n",
              "    <tr>\n",
              "      <th>Experience</th>\n",
              "      <td>5000.0</td>\n",
              "      <td>20.104600</td>\n",
              "      <td>11.467954</td>\n",
              "      <td>-3.0</td>\n",
              "      <td>10.00</td>\n",
              "      <td>20.0</td>\n",
              "      <td>30.00</td>\n",
              "      <td>43.0</td>\n",
              "    </tr>\n",
              "    <tr>\n",
              "      <th>Income</th>\n",
              "      <td>5000.0</td>\n",
              "      <td>73.774200</td>\n",
              "      <td>46.033729</td>\n",
              "      <td>8.0</td>\n",
              "      <td>39.00</td>\n",
              "      <td>64.0</td>\n",
              "      <td>98.00</td>\n",
              "      <td>224.0</td>\n",
              "    </tr>\n",
              "    <tr>\n",
              "      <th>ZIP Code</th>\n",
              "      <td>5000.0</td>\n",
              "      <td>93152.503000</td>\n",
              "      <td>2121.852197</td>\n",
              "      <td>9307.0</td>\n",
              "      <td>91911.00</td>\n",
              "      <td>93437.0</td>\n",
              "      <td>94608.00</td>\n",
              "      <td>96651.0</td>\n",
              "    </tr>\n",
              "    <tr>\n",
              "      <th>Family</th>\n",
              "      <td>5000.0</td>\n",
              "      <td>2.396400</td>\n",
              "      <td>1.147663</td>\n",
              "      <td>1.0</td>\n",
              "      <td>1.00</td>\n",
              "      <td>2.0</td>\n",
              "      <td>3.00</td>\n",
              "      <td>4.0</td>\n",
              "    </tr>\n",
              "    <tr>\n",
              "      <th>CCAvg</th>\n",
              "      <td>5000.0</td>\n",
              "      <td>1.937913</td>\n",
              "      <td>1.747666</td>\n",
              "      <td>0.0</td>\n",
              "      <td>0.70</td>\n",
              "      <td>1.5</td>\n",
              "      <td>2.50</td>\n",
              "      <td>10.0</td>\n",
              "    </tr>\n",
              "    <tr>\n",
              "      <th>Education</th>\n",
              "      <td>5000.0</td>\n",
              "      <td>1.881000</td>\n",
              "      <td>0.839869</td>\n",
              "      <td>1.0</td>\n",
              "      <td>1.00</td>\n",
              "      <td>2.0</td>\n",
              "      <td>3.00</td>\n",
              "      <td>3.0</td>\n",
              "    </tr>\n",
              "    <tr>\n",
              "      <th>Mortgage</th>\n",
              "      <td>5000.0</td>\n",
              "      <td>56.498800</td>\n",
              "      <td>101.713802</td>\n",
              "      <td>0.0</td>\n",
              "      <td>0.00</td>\n",
              "      <td>0.0</td>\n",
              "      <td>101.00</td>\n",
              "      <td>635.0</td>\n",
              "    </tr>\n",
              "    <tr>\n",
              "      <th>Personal Loan</th>\n",
              "      <td>5000.0</td>\n",
              "      <td>0.096000</td>\n",
              "      <td>0.294621</td>\n",
              "      <td>0.0</td>\n",
              "      <td>0.00</td>\n",
              "      <td>0.0</td>\n",
              "      <td>0.00</td>\n",
              "      <td>1.0</td>\n",
              "    </tr>\n",
              "    <tr>\n",
              "      <th>Securities Account</th>\n",
              "      <td>5000.0</td>\n",
              "      <td>0.104400</td>\n",
              "      <td>0.305809</td>\n",
              "      <td>0.0</td>\n",
              "      <td>0.00</td>\n",
              "      <td>0.0</td>\n",
              "      <td>0.00</td>\n",
              "      <td>1.0</td>\n",
              "    </tr>\n",
              "    <tr>\n",
              "      <th>CD Account</th>\n",
              "      <td>5000.0</td>\n",
              "      <td>0.060400</td>\n",
              "      <td>0.238250</td>\n",
              "      <td>0.0</td>\n",
              "      <td>0.00</td>\n",
              "      <td>0.0</td>\n",
              "      <td>0.00</td>\n",
              "      <td>1.0</td>\n",
              "    </tr>\n",
              "    <tr>\n",
              "      <th>Online</th>\n",
              "      <td>5000.0</td>\n",
              "      <td>0.596800</td>\n",
              "      <td>0.490589</td>\n",
              "      <td>0.0</td>\n",
              "      <td>0.00</td>\n",
              "      <td>1.0</td>\n",
              "      <td>1.00</td>\n",
              "      <td>1.0</td>\n",
              "    </tr>\n",
              "    <tr>\n",
              "      <th>CreditCard</th>\n",
              "      <td>5000.0</td>\n",
              "      <td>0.294000</td>\n",
              "      <td>0.455637</td>\n",
              "      <td>0.0</td>\n",
              "      <td>0.00</td>\n",
              "      <td>0.0</td>\n",
              "      <td>1.00</td>\n",
              "      <td>1.0</td>\n",
              "    </tr>\n",
              "  </tbody>\n",
              "</table>\n",
              "</div>"
            ],
            "text/plain": [
              "                     count          mean  ...       75%      max\n",
              "ID                  5000.0   2500.500000  ...   3750.25   5000.0\n",
              "Age                 5000.0     45.338400  ...     55.00     67.0\n",
              "Experience          5000.0     20.104600  ...     30.00     43.0\n",
              "Income              5000.0     73.774200  ...     98.00    224.0\n",
              "ZIP Code            5000.0  93152.503000  ...  94608.00  96651.0\n",
              "Family              5000.0      2.396400  ...      3.00      4.0\n",
              "CCAvg               5000.0      1.937913  ...      2.50     10.0\n",
              "Education           5000.0      1.881000  ...      3.00      3.0\n",
              "Mortgage            5000.0     56.498800  ...    101.00    635.0\n",
              "Personal Loan       5000.0      0.096000  ...      0.00      1.0\n",
              "Securities Account  5000.0      0.104400  ...      0.00      1.0\n",
              "CD Account          5000.0      0.060400  ...      0.00      1.0\n",
              "Online              5000.0      0.596800  ...      1.00      1.0\n",
              "CreditCard          5000.0      0.294000  ...      1.00      1.0\n",
              "\n",
              "[14 rows x 8 columns]"
            ]
          },
          "metadata": {
            "tags": []
          },
          "execution_count": 19
        }
      ]
    },
    {
      "cell_type": "code",
      "metadata": {
        "id": "4DaS7tXUOoTB"
      },
      "source": [
        "##### 1) Experince - We need to investigate which other day are below 0 and decide what to do for those rows\n",
        "##### 2) Income - I do not know the units is it in lacs?\n",
        "##### 3) Income -  I do not know if its monthly, It should monthly because banks generally estimate based on how emi can borrower pay monthy?\n",
        "##### 4) Zip Code - Seems to be legitimate but we should cross check with business if the allowed data is between pin code (9307 - 96651) - Low priority\n",
        "##### 5) Ask bisu what to infer from mix,25%,50%,75%,max ( more data on left or more on right etc) when is it useful?"
      ],
      "execution_count": null,
      "outputs": []
    },
    {
      "cell_type": "code",
      "metadata": {
        "id": "7QEgG6Q8RTo2",
        "outputId": "a30d3728-5306-4340-8a65-83cdeb76c755",
        "colab": {
          "base_uri": "https://localhost:8080/",
          "height": 570
        }
      },
      "source": [
        "bankLoanDF.hist()\n",
        "#After seeing this we select Age,Experience,Income,CCAvg,Mortgage as other columns are discrete not need check left or right skew"
      ],
      "execution_count": 24,
      "outputs": [
        {
          "output_type": "execute_result",
          "data": {
            "text/plain": [
              "array([[<matplotlib.axes._subplots.AxesSubplot object at 0x7fbddedb29b0>,\n",
              "        <matplotlib.axes._subplots.AxesSubplot object at 0x7fbdded5c828>,\n",
              "        <matplotlib.axes._subplots.AxesSubplot object at 0x7fbdded0ba90>,\n",
              "        <matplotlib.axes._subplots.AxesSubplot object at 0x7fbddecc0cf8>],\n",
              "       [<matplotlib.axes._subplots.AxesSubplot object at 0x7fbddecf4f60>,\n",
              "        <matplotlib.axes._subplots.AxesSubplot object at 0x7fbddecb6208>,\n",
              "        <matplotlib.axes._subplots.AxesSubplot object at 0x7fbddec6a470>,\n",
              "        <matplotlib.axes._subplots.AxesSubplot object at 0x7fbddec1d6a0>],\n",
              "       [<matplotlib.axes._subplots.AxesSubplot object at 0x7fbddec1d710>,\n",
              "        <matplotlib.axes._subplots.AxesSubplot object at 0x7fbddeb869e8>,\n",
              "        <matplotlib.axes._subplots.AxesSubplot object at 0x7fbddeb39d68>,\n",
              "        <matplotlib.axes._subplots.AxesSubplot object at 0x7fbddeaf8128>],\n",
              "       [<matplotlib.axes._subplots.AxesSubplot object at 0x7fbddeb294a8>,\n",
              "        <matplotlib.axes._subplots.AxesSubplot object at 0x7fbddeadc828>,\n",
              "        <matplotlib.axes._subplots.AxesSubplot object at 0x7fbddea8eba8>,\n",
              "        <matplotlib.axes._subplots.AxesSubplot object at 0x7fbddea43f28>]],\n",
              "      dtype=object)"
            ]
          },
          "metadata": {
            "tags": []
          },
          "execution_count": 24
        },
        {
          "output_type": "display_data",
          "data": {
            "image/png": "[encoded data removed]",
            "text/plain": [
              "<Figure size 432x288 with 16 Axes>"
            ]
          },
          "metadata": {
            "tags": [],
            "needs_background": "light"
          }
        }
      ]
    },
    {
      "cell_type": "code",
      "metadata": {
        "id": "Kb5-D8g3S-nh",
        "outputId": "cc9bb045-e4c8-4e14-aa59-2d76ff36bb7e",
        "colab": {
          "base_uri": "https://localhost:8080/",
          "height": 400
        }
      },
      "source": [
        "bankLoanDF[[\"Age\", \"Experience\",\"Income\",\"CCAvg\",\"Mortgage\"]].hist()"
      ],
      "execution_count": 26,
      "outputs": [
        {
          "output_type": "execute_result",
          "data": {
            "text/plain": [
              "array([[<matplotlib.axes._subplots.AxesSubplot object at 0x7fbdde5c35c0>,\n",
              "        <matplotlib.axes._subplots.AxesSubplot object at 0x7fbdde5f3fd0>],\n",
              "       [<matplotlib.axes._subplots.AxesSubplot object at 0x7fbdde5ac2b0>,\n",
              "        <matplotlib.axes._subplots.AxesSubplot object at 0x7fbdde55e518>],\n",
              "       [<matplotlib.axes._subplots.AxesSubplot object at 0x7fbdde511780>,\n",
              "        <matplotlib.axes._subplots.AxesSubplot object at 0x7fbdde4c49e8>]],\n",
              "      dtype=object)"
            ]
          },
          "metadata": {
            "tags": []
          },
          "execution_count": 26
        },
        {
          "output_type": "display_data",
          "data": {
            "image/png": "[encoded data removed]",
            "text/plain": [
              "<Figure size 432x288 with 6 Axes>"
            ]
          },
          "metadata": {
            "tags": [],
            "needs_background": "light"
          }
        }
      ]
    },
    {
      "cell_type": "code",
      "metadata": {
        "id": "ITJ-vf_YTkj4",
        "outputId": "c67c48f1-ee1f-45b7-9e5a-865796dbb91c",
        "colab": {
          "base_uri": "https://localhost:8080/",
          "height": 282
        }
      },
      "source": [
        "bankLoanDF[[\"Age\", \"Experience\",\"Income\",\"CCAvg\",\"Mortgage\"]].plot.hist()\n",
        "#Histogram for each column\n",
        "##### 6) How to understand this and what is this?\n",
        "##### source - https://pandas.pydata.org/Pandas_Cheat_Sheet.pdf"
      ],
      "execution_count": 27,
      "outputs": [
        {
          "output_type": "execute_result",
          "data": {
            "text/plain": [
              "<matplotlib.axes._subplots.AxesSubplot at 0x7fbdde399198>"
            ]
          },
          "metadata": {
            "tags": []
          },
          "execution_count": 27
        },
        {
          "output_type": "display_data",
          "data": {
            "image/png": "[encoded data removed]",
            "text/plain": [
              "<Figure size 432x288 with 1 Axes>"
            ]
          },
          "metadata": {
            "tags": [],
            "needs_background": "light"
          }
        }
      ]
    },
    {
      "cell_type": "code",
      "metadata": {
        "id": "WBcvbk7FSjeX",
        "outputId": "abd5c661-8afa-475f-d651-d47f590ecaab",
        "colab": {
          "base_uri": "https://localhost:8080/",
          "height": 296
        }
      },
      "source": [
        "bankLoanDF.plot.scatter(x='Income',y='Personal Loan')\n",
        "##### 7) I should not use scatter plot for classification problems?\n",
        "##### source - https://pandas.pydata.org/Pandas_Cheat_Sheet.pdf"
      ],
      "execution_count": 30,
      "outputs": [
        {
          "output_type": "execute_result",
          "data": {
            "text/plain": [
              "<matplotlib.axes._subplots.AxesSubplot at 0x7fbdde1a6c50>"
            ]
          },
          "metadata": {
            "tags": []
          },
          "execution_count": 30
        },
        {
          "output_type": "display_data",
          "data": {
            "image/png": "[encoded data removed]",
            "text/plain": [
              "<Figure size 432x288 with 1 Axes>"
            ]
          },
          "metadata": {
            "tags": [],
            "needs_background": "light"
          }
        }
      ]
    },
    {
      "cell_type": "code",
      "metadata": {
        "id": "7Fuoq1V0Udq6",
        "outputId": "421681b8-aed3-4311-979b-2c893ace3319",
        "colab": {
          "base_uri": "https://localhost:8080/",
          "height": 296
        }
      },
      "source": [
        "bankLoanDF.plot.scatter(x='Mortgage',y='Personal Loan')"
      ],
      "execution_count": 33,
      "outputs": [
        {
          "output_type": "execute_result",
          "data": {
            "text/plain": [
              "<matplotlib.axes._subplots.AxesSubplot at 0x7fbdde074c88>"
            ]
          },
          "metadata": {
            "tags": []
          },
          "execution_count": 33
        },
        {
          "output_type": "display_data",
          "data": {
            "image/png": "[encoded data removed]",
            "text/plain": [
              "<Figure size 432x288 with 1 Axes>"
            ]
          },
          "metadata": {
            "tags": [],
            "needs_background": "light"
          }
        }
      ]
    },
    {
      "cell_type": "code",
      "metadata": {
        "id": "kd2y3LrKVYXs",
        "outputId": "5e051a72-6fa2-4e02-fe7f-1fee2c5eab4b",
        "colab": {
          "base_uri": "https://localhost:8080/"
        }
      },
      "source": [
        "bankLoanDF.corr()['Personal Loan']"
      ],
      "execution_count": 35,
      "outputs": [
        {
          "output_type": "execute_result",
          "data": {
            "text/plain": [
              "ID                   -0.024801\n",
              "Age                  -0.007726\n",
              "Experience           -0.007413\n",
              "Income                0.502462\n",
              "ZIP Code              0.000107\n",
              "Family                0.061367\n",
              "CCAvg                 0.366891\n",
              "Education             0.136722\n",
              "Mortgage              0.142095\n",
              "Personal Loan         1.000000\n",
              "Securities Account    0.021954\n",
              "CD Account            0.316355\n",
              "Online                0.006278\n",
              "CreditCard            0.002802\n",
              "Name: Personal Loan, dtype: float64"
            ]
          },
          "metadata": {
            "tags": []
          },
          "execution_count": 35
        }
      ]
    },
    {
      "cell_type": "code",
      "metadata": {
        "id": "Hr8mdJNIVsyW",
        "outputId": "fa9487d1-631a-4a05-81ea-2624ae9700d4",
        "colab": {
          "base_uri": "https://localhost:8080/",
          "height": 369
        }
      },
      "source": [
        "sns.heatmap(bankLoanDF.corr())\n",
        "##### 8) Is there a way to get only with respect to Personal Loan?"
      ],
      "execution_count": 43,
      "outputs": [
        {
          "output_type": "execute_result",
          "data": {
            "text/plain": [
              "<matplotlib.axes._subplots.AxesSubplot at 0x7fbdd153a160>"
            ]
          },
          "metadata": {
            "tags": []
          },
          "execution_count": 43
        },
        {
          "output_type": "display_data",
          "data": {
            "image/png": "[encoded data removed]",
            "text/plain": [
              "<Figure size 432x288 with 2 Axes>"
            ]
          },
          "metadata": {
            "tags": [],
            "needs_background": "light"
          }
        }
      ]
    },
    {
      "cell_type": "code",
      "metadata": {
        "id": "lKet9LSHW8A9",
        "outputId": "5abb12ac-d253-40f2-b353-5adab689fcad",
        "colab": {
          "base_uri": "https://localhost:8080/",
          "height": 369
        }
      },
      "source": [
        "bankLoanDF['Income'].value_counts().nlargest(10).plot(kind='bar',figsize=(15,5))\n",
        "plt.title(\"Account holders by income\")\n",
        "plt.ylabel(\"Count of Account holders\")\n",
        "plt.xlabel(\"Income\")"
      ],
      "execution_count": 60,
      "outputs": [
        {
          "output_type": "execute_result",
          "data": {
            "text/plain": [
              "Text(0.5, 0, 'Income')"
            ]
          },
          "metadata": {
            "tags": []
          },
          "execution_count": 60
        },
        {
          "output_type": "display_data",
          "data": {
            "image/png": "[encoded data removed]",
            "text/plain": [
              "<Figure size 1080x360 with 1 Axes>"
            ]
          },
          "metadata": {
            "tags": [],
            "needs_background": "light"
          }
        }
      ]
    },
    {
      "cell_type": "code",
      "metadata": {
        "id": "yuMkm6RnXUFO",
        "outputId": "99af3c67-663f-4738-f361-42985ce59dd1",
        "colab": {
          "base_uri": "https://localhost:8080/"
        }
      },
      "source": [
        "bankLoanDF['Income'].value_counts().nlargest(10)\n",
        "#bankLoanDF['Income'].nunique()\n",
        "# of distinct values in a "
      ],
      "execution_count": 59,
      "outputs": [
        {
          "output_type": "execute_result",
          "data": {
            "text/plain": [
              "44    85\n",
              "38    84\n",
              "81    83\n",
              "41    82\n",
              "39    81\n",
              "40    78\n",
              "42    77\n",
              "83    74\n",
              "43    70\n",
              "45    69\n",
              "Name: Income, dtype: int64"
            ]
          },
          "metadata": {
            "tags": []
          },
          "execution_count": 59
        }
      ]
    },
    {
      "cell_type": "code",
      "metadata": {
        "id": "C3nd2wUsZDmu",
        "outputId": "4c915baa-371a-41e0-a0f7-c5fd4d0ce602",
        "colab": {
          "base_uri": "https://localhost:8080/",
          "height": 296
        }
      },
      "source": [
        "sns.boxplot(x=\"Experience\",y=\"Personal Loan\",data=bankLoanDF)\n",
        "##### 8) How and when to do this?"
      ],
      "execution_count": 63,
      "outputs": [
        {
          "output_type": "execute_result",
          "data": {
            "text/plain": [
              "<matplotlib.axes._subplots.AxesSubplot at 0x7fbdcdeaa240>"
            ]
          },
          "metadata": {
            "tags": []
          },
          "execution_count": 63
        },
        {
          "output_type": "display_data",
          "data": {
            "image/png": "[encoded data removed]",
            "text/plain": [
              "<Figure size 432x288 with 1 Axes>"
            ]
          },
          "metadata": {
            "tags": [],
            "needs_background": "light"
          }
        }
      ]
    },
    {
      "cell_type": "code",
      "metadata": {
        "id": "Wrc4opMsGu8e",
        "outputId": "3cd605a4-1d5b-40a8-e1de-394953674342",
        "colab": {
          "base_uri": "https://localhost:8080/"
        }
      },
      "source": [
        "#bankLoanDF.columns\n",
        "bankLoanDF.dtypes"
      ],
      "execution_count": 11,
      "outputs": [
        {
          "output_type": "execute_result",
          "data": {
            "text/plain": [
              "ID                      int64\n",
              "Age                     int64\n",
              "Experience              int64\n",
              "Income                  int64\n",
              "ZIP Code                int64\n",
              "Family                  int64\n",
              "CCAvg                 float64\n",
              "Education               int64\n",
              "Mortgage                int64\n",
              "Personal Loan           int64\n",
              "Securities Account      int64\n",
              "CD Account              int64\n",
              "Online                  int64\n",
              "CreditCard              int64\n",
              "dtype: object"
            ]
          },
          "metadata": {
            "tags": []
          },
          "execution_count": 11
        }
      ]
    },
    {
      "cell_type": "code",
      "metadata": {
        "id": "Un4mtUg5ETq9",
        "outputId": "ef83ae4a-8c2e-46f5-89f0-9393b13952f0",
        "colab": {
          "base_uri": "https://localhost:8080/"
        }
      },
      "source": [
        "bankLoanDF.count()"
      ],
      "execution_count": 12,
      "outputs": [
        {
          "output_type": "execute_result",
          "data": {
            "text/plain": [
              "ID                    5000\n",
              "Age                   5000\n",
              "Experience            5000\n",
              "Income                5000\n",
              "ZIP Code              5000\n",
              "Family                5000\n",
              "CCAvg                 5000\n",
              "Education             5000\n",
              "Mortgage              5000\n",
              "Personal Loan         5000\n",
              "Securities Account    5000\n",
              "CD Account            5000\n",
              "Online                5000\n",
              "CreditCard            5000\n",
              "dtype: int64"
            ]
          },
          "metadata": {
            "tags": []
          },
          "execution_count": 12
        }
      ]
    },
    {
      "cell_type": "code",
      "metadata": {
        "id": "vahTEuIPIIS3",
        "outputId": "3fc1b568-bf24-4b3b-bc50-7f57db731d92",
        "colab": {
          "base_uri": "https://localhost:8080/",
          "height": 204
        }
      },
      "source": [
        "bankLoanDF.head()"
      ],
      "execution_count": 13,
      "outputs": [
        {
          "output_type": "execute_result",
          "data": {
            "text/html": [
              "<div>\n",
              "<style scoped>\n",
              "    .dataframe tbody tr th:only-of-type {\n",
              "        vertical-align: middle;\n",
              "    }\n",
              "\n",
              "    .dataframe tbody tr th {\n",
              "        vertical-align: top;\n",
              "    }\n",
              "\n",
              "    .dataframe thead th {\n",
              "        text-align: right;\n",
              "    }\n",
              "</style>\n",
              "<table border=\"1\" class=\"dataframe\">\n",
              "  <thead>\n",
              "    <tr style=\"text-align: right;\">\n",
              "      <th></th>\n",
              "      <th>ID</th>\n",
              "      <th>Age</th>\n",
              "      <th>Experience</th>\n",
              "      <th>Income</th>\n",
              "      <th>ZIP Code</th>\n",
              "      <th>Family</th>\n",
              "      <th>CCAvg</th>\n",
              "      <th>Education</th>\n",
              "      <th>Mortgage</th>\n",
              "      <th>Personal Loan</th>\n",
              "      <th>Securities Account</th>\n",
              "      <th>CD Account</th>\n",
              "      <th>Online</th>\n",
              "      <th>CreditCard</th>\n",
              "    </tr>\n",
              "  </thead>\n",
              "  <tbody>\n",
              "    <tr>\n",
              "      <th>0</th>\n",
              "      <td>1</td>\n",
              "      <td>25</td>\n",
              "      <td>1</td>\n",
              "      <td>49</td>\n",
              "      <td>91107</td>\n",
              "      <td>4</td>\n",
              "      <td>1.6</td>\n",
              "      <td>1</td>\n",
              "      <td>0</td>\n",
              "      <td>0</td>\n",
              "      <td>1</td>\n",
              "      <td>0</td>\n",
              "      <td>0</td>\n",
              "      <td>0</td>\n",
              "    </tr>\n",
              "    <tr>\n",
              "      <th>1</th>\n",
              "      <td>2</td>\n",
              "      <td>45</td>\n",
              "      <td>19</td>\n",
              "      <td>34</td>\n",
              "      <td>90089</td>\n",
              "      <td>3</td>\n",
              "      <td>1.5</td>\n",
              "      <td>1</td>\n",
              "      <td>0</td>\n",
              "      <td>0</td>\n",
              "      <td>1</td>\n",
              "      <td>0</td>\n",
              "      <td>0</td>\n",
              "      <td>0</td>\n",
              "    </tr>\n",
              "    <tr>\n",
              "      <th>2</th>\n",
              "      <td>3</td>\n",
              "      <td>39</td>\n",
              "      <td>15</td>\n",
              "      <td>11</td>\n",
              "      <td>94720</td>\n",
              "      <td>1</td>\n",
              "      <td>1.0</td>\n",
              "      <td>1</td>\n",
              "      <td>0</td>\n",
              "      <td>0</td>\n",
              "      <td>0</td>\n",
              "      <td>0</td>\n",
              "      <td>0</td>\n",
              "      <td>0</td>\n",
              "    </tr>\n",
              "    <tr>\n",
              "      <th>3</th>\n",
              "      <td>4</td>\n",
              "      <td>35</td>\n",
              "      <td>9</td>\n",
              "      <td>100</td>\n",
              "      <td>94112</td>\n",
              "      <td>1</td>\n",
              "      <td>2.7</td>\n",
              "      <td>2</td>\n",
              "      <td>0</td>\n",
              "      <td>0</td>\n",
              "      <td>0</td>\n",
              "      <td>0</td>\n",
              "      <td>0</td>\n",
              "      <td>0</td>\n",
              "    </tr>\n",
              "    <tr>\n",
              "      <th>4</th>\n",
              "      <td>5</td>\n",
              "      <td>35</td>\n",
              "      <td>8</td>\n",
              "      <td>45</td>\n",
              "      <td>91330</td>\n",
              "      <td>4</td>\n",
              "      <td>1.0</td>\n",
              "      <td>2</td>\n",
              "      <td>0</td>\n",
              "      <td>0</td>\n",
              "      <td>0</td>\n",
              "      <td>0</td>\n",
              "      <td>0</td>\n",
              "      <td>1</td>\n",
              "    </tr>\n",
              "  </tbody>\n",
              "</table>\n",
              "</div>"
            ],
            "text/plain": [
              "   ID  Age  Experience  ...  CD Account  Online  CreditCard\n",
              "0   1   25           1  ...           0       0           0\n",
              "1   2   45          19  ...           0       0           0\n",
              "2   3   39          15  ...           0       0           0\n",
              "3   4   35           9  ...           0       0           0\n",
              "4   5   35           8  ...           0       0           1\n",
              "\n",
              "[5 rows x 14 columns]"
            ]
          },
          "metadata": {
            "tags": []
          },
          "execution_count": 13
        }
      ]
    },
    {
      "cell_type": "code",
      "metadata": {
        "id": "K1NYedMw_g29",
        "outputId": "88c3d9bc-8df5-4bb4-c32f-b524a8cb590e",
        "colab": {
          "base_uri": "https://localhost:8080/",
          "height": 164
        }
      },
      "source": [
        "pd.read_excel(open('Bank_Personal_Loan_Modelling.xlsx', 'rb'),sheet_name='Data')"
      ],
      "execution_count": 14,
      "outputs": [
        {
          "output_type": "error",
          "ename": "FileNotFoundError",
          "evalue": "ignored",
          "traceback": [
            "\u001b[0;31m---------------------------------------------------------------------------\u001b[0m",
            "\u001b[0;31mFileNotFoundError\u001b[0m                         Traceback (most recent call last)",
            "\u001b[0;32m<ipython-input-14-1d257bccc2c9>\u001b[0m in \u001b[0;36m<module>\u001b[0;34m()\u001b[0m\n\u001b[0;32m----> 1\u001b[0;31m \u001b[0mpd\u001b[0m\u001b[0;34m.\u001b[0m\u001b[0mread_excel\u001b[0m\u001b[0;34m(\u001b[0m\u001b[0mopen\u001b[0m\u001b[0;34m(\u001b[0m\u001b[0;34m'Bank_Personal_Loan_Modelling.xlsx'\u001b[0m\u001b[0;34m,\u001b[0m \u001b[0;34m'rb'\u001b[0m\u001b[0;34m)\u001b[0m\u001b[0;34m,\u001b[0m\u001b[0msheet_name\u001b[0m\u001b[0;34m=\u001b[0m\u001b[0;34m'Data'\u001b[0m\u001b[0;34m)\u001b[0m\u001b[0;34m\u001b[0m\u001b[0;34m\u001b[0m\u001b[0m\n\u001b[0m",
            "\u001b[0;31mFileNotFoundError\u001b[0m: [Errno 2] No such file or directory: 'Bank_Personal_Loan_Modelling.xlsx'"
          ]
        }
      ]
    },
    {
      "cell_type": "code",
      "metadata": {
        "id": "DODrWTZs_hCC"
      },
      "source": [
        ""
      ],
      "execution_count": null,
      "outputs": []
    }
  ]
}